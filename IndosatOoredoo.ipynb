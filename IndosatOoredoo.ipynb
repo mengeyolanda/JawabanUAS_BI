{
  "nbformat": 4,
  "nbformat_minor": 0,
  "metadata": {
    "colab": {
      "name": "IndosatOoredoo.ipynb",
      "provenance": []
    },
    "kernelspec": {
      "name": "python3",
      "display_name": "Python 3"
    }
  },
  "cells": [
    {
      "cell_type": "code",
      "metadata": {
        "id": "YJKwL37tj3FG"
      },
      "source": [
        "#Import the Libraries\r\n",
        "import tweepy\r\n",
        "from textblob import TextBlob\r\n",
        "from wordcloud import WordCloud\r\n",
        "import pandas as pd\r\n",
        "import numpy as np\r\n",
        "import re\r\n",
        "import matplotlib.pyplot as plt\r\n",
        "plt.style.use('fivethirtyeight')"
      ],
      "execution_count": 1,
      "outputs": []
    },
    {
      "cell_type": "code",
      "metadata": {
        "id": "MebH7SJkk5na"
      },
      "source": [
        "# Twitter Api Credentials\r\n",
        "consumerKey = \"LrSxpWHRWjwa2h8R4SQOZJUIV\"\r\n",
        "consumerSecret = \"8d3xWVMKm6LpXDIbZW930I5eiH0kb0jhtNr8pvSHkABm63qPh9\"\r\n",
        "accessToken = \"1334421915549585408-8HocCnFw9QvWCZLXbei8QL5BrwfFi4\"\r\n",
        "accessTokenSecret = \"DePvAq20EWinXLyCi82cfPYIedfAamMMRXet5L40e8XWO\"\r\n",
        "\r\n",
        "# Create the authentication object\r\n",
        "authenticate = tweepy.OAuthHandler(consumerKey, consumerSecret) \r\n",
        "    \r\n",
        "# Set the access token and access token secret\r\n",
        "authenticate.set_access_token(accessToken, accessTokenSecret) \r\n",
        "    \r\n",
        "# Creating the API object while passing in auth information\r\n",
        "api = tweepy.API(authenticate, wait_on_rate_limit = True)"
      ],
      "execution_count": 2,
      "outputs": []
    },
    {
      "cell_type": "code",
      "metadata": {
        "colab": {
          "base_uri": "https://localhost:8080/"
        },
        "id": "7VoBUWselIGC",
        "outputId": "4ace5805-609d-4475-a690-272cac79dbe8"
      },
      "source": [
        "# Extract 200 tweets from the twitter user\r\n",
        "posts = api.user_timeline(screen_name=\"IndosatOoredoo\", count = 1000, lang =\"id\", tweet_mode=\"extended\")\r\n",
        "\r\n",
        "#  Print the last 10 tweets\r\n",
        "print(\"Show the 10 recent tweets:\\n\")\r\n",
        "i=1\r\n",
        "for tweet in posts[:10]:\r\n",
        "    print(str(i) +') '+ tweet.full_text + '\\n')\r\n",
        "    i= i+1"
      ],
      "execution_count": 58,
      "outputs": [
        {
          "output_type": "stream",
          "text": [
            "Show the 10 recent tweets:\n",
            "\n",
            "1) @ViranisaN Hai Kak Vira, maaf ats keluhan yg dialami. Agar dapat kami bantu cek lebih lanjut, yuk infoin data detailnya melalui DM ya. Salam^Alya https://t.co/GfAYuR1Kso\n",
            "\n",
            "2) @MoeslihKhaboell Hai Kak Muslih,  mohon maaf atas kendala yg dialami. Utk saat ini kami sedang berupaya agar akses kembali normal ya Kak. Mohon dicek secara berkala. Salam^Lya\n",
            "\n",
            "3) @gabriellajstne Hai Kak Gabriella, maaf banget buat kendalanya. Terkait paket Freedom internet akan kembali berjalan jika kuota bonusnya sudah habis. Salam^Ayu\n",
            "\n",
            "4) @MahendraArie Baik, sama sama kak, mohon menunggu atau cek pulsa berkala melalui *123# atau aplikasi MYIM3 ya kak. Salam^Fye\n",
            "\n",
            "5) @MahendraArie Hi kak Arie, sudah kami informasikan via Dm ya. Salam^Estu\n",
            "\n",
            "6) @IraRahm86124734 Maaf Kak Ira, yuk bisa restart Hp dulu utk pancing jaringannya lalu coba kembali akses internetnya. Jika masih sama infoin detailnya di https://t.co/GfAYuR1Kso ya Kak, mimin tunggu. Thanks^Marsha.\n",
            "\n",
            "7) @RenaldoSamosir Hai Kak Renaldo, informasi detailnya kami sampaikan melalui DM ya. Terimakasih. Salam ^Puspa  @YLKI_ID\n",
            "\n",
            "8) @PewarisJingga Hai Kak, maaf bgt untuk pengalamannya. Mengenai hal yg dialami, kami bantu cek ya yuk infokan nomor, atas nama sesuai registrasi, waktu kejadian, kondisi sinyal baris, sinyal data, lokasi detail (nama jalan, RT/RW, desa, kecamatan, dan kota). Salam ^Puspa https://t.co/0RXhGGW1zB\n",
            "\n",
            "9) @Bebekksalto Hai Kak, ada yang bisa kami bantu? Bisa infoin pertanyaan atau kendala yang dialami serta nomornya juga ya Kak via DM akan kami bantu. Salam^Reyna\n",
            "\n",
            "10) @haiidve Hai kak, maaf atas pengalamannya. Yuk infokan nomor handphone, lokasi detail  dan nama pemilik nomor via DM ya kak, agar segera kami bantu. ^Endo  https://t.co/0RXhGGW1zB\n",
            "\n"
          ],
          "name": "stdout"
        }
      ]
    },
    {
      "cell_type": "code",
      "metadata": {
        "colab": {
          "base_uri": "https://localhost:8080/",
          "height": 204
        },
        "id": "SAYPS7rssTTZ",
        "outputId": "2256b49b-f22b-4bab-b9d7-4e34ddbab70b"
      },
      "source": [
        "# Create a dataframe with a column called Tweets\r\n",
        "df = pd.DataFrame([tweet.full_text for tweet in posts], columns=['Tweets'])\r\n",
        "# Show the first 10 rows of data\r\n",
        "df.head()"
      ],
      "execution_count": 59,
      "outputs": [
        {
          "output_type": "execute_result",
          "data": {
            "text/html": [
              "<div>\n",
              "<style scoped>\n",
              "    .dataframe tbody tr th:only-of-type {\n",
              "        vertical-align: middle;\n",
              "    }\n",
              "\n",
              "    .dataframe tbody tr th {\n",
              "        vertical-align: top;\n",
              "    }\n",
              "\n",
              "    .dataframe thead th {\n",
              "        text-align: right;\n",
              "    }\n",
              "</style>\n",
              "<table border=\"1\" class=\"dataframe\">\n",
              "  <thead>\n",
              "    <tr style=\"text-align: right;\">\n",
              "      <th></th>\n",
              "      <th>Tweets</th>\n",
              "    </tr>\n",
              "  </thead>\n",
              "  <tbody>\n",
              "    <tr>\n",
              "      <th>0</th>\n",
              "      <td>@ViranisaN Hai Kak Vira, maaf ats keluhan yg d...</td>\n",
              "    </tr>\n",
              "    <tr>\n",
              "      <th>1</th>\n",
              "      <td>@MoeslihKhaboell Hai Kak Muslih,  mohon maaf a...</td>\n",
              "    </tr>\n",
              "    <tr>\n",
              "      <th>2</th>\n",
              "      <td>@gabriellajstne Hai Kak Gabriella, maaf banget...</td>\n",
              "    </tr>\n",
              "    <tr>\n",
              "      <th>3</th>\n",
              "      <td>@MahendraArie Baik, sama sama kak, mohon menun...</td>\n",
              "    </tr>\n",
              "    <tr>\n",
              "      <th>4</th>\n",
              "      <td>@MahendraArie Hi kak Arie, sudah kami informas...</td>\n",
              "    </tr>\n",
              "  </tbody>\n",
              "</table>\n",
              "</div>"
            ],
            "text/plain": [
              "                                              Tweets\n",
              "0  @ViranisaN Hai Kak Vira, maaf ats keluhan yg d...\n",
              "1  @MoeslihKhaboell Hai Kak Muslih,  mohon maaf a...\n",
              "2  @gabriellajstne Hai Kak Gabriella, maaf banget...\n",
              "3  @MahendraArie Baik, sama sama kak, mohon menun...\n",
              "4  @MahendraArie Hi kak Arie, sudah kami informas..."
            ]
          },
          "metadata": {
            "tags": []
          },
          "execution_count": 59
        }
      ]
    },
    {
      "cell_type": "code",
      "metadata": {
        "colab": {
          "base_uri": "https://localhost:8080/",
          "height": 419
        },
        "id": "A-cd1A6kuKtL",
        "outputId": "19c75e86-f52f-410d-ed65-a21c9f45f8e9"
      },
      "source": [
        "# Create a function to clean the tweets\r\n",
        "def cleanTxt(text):\r\n",
        " text = re.sub('@[A-Za-z0–9]+', '', text) #Removing @mentions\r\n",
        " text = re.sub('#', '', text) # Removing '#' hash tag\r\n",
        " text = re.sub('RT[\\s]+', '', text) # Removing RT\r\n",
        " text = re.sub('https?:\\/\\/\\S+', '', text) # Removing hyperlink\r\n",
        " \r\n",
        " return text\r\n",
        "\r\n",
        "\r\n",
        "# Clean the tweets\r\n",
        "df['Tweets'] = df['Tweets'].apply(cleanTxt)\r\n",
        "\r\n",
        "# Show the cleaned tweets\r\n",
        "df"
      ],
      "execution_count": 60,
      "outputs": [
        {
          "output_type": "execute_result",
          "data": {
            "text/html": [
              "<div>\n",
              "<style scoped>\n",
              "    .dataframe tbody tr th:only-of-type {\n",
              "        vertical-align: middle;\n",
              "    }\n",
              "\n",
              "    .dataframe tbody tr th {\n",
              "        vertical-align: top;\n",
              "    }\n",
              "\n",
              "    .dataframe thead th {\n",
              "        text-align: right;\n",
              "    }\n",
              "</style>\n",
              "<table border=\"1\" class=\"dataframe\">\n",
              "  <thead>\n",
              "    <tr style=\"text-align: right;\">\n",
              "      <th></th>\n",
              "      <th>Tweets</th>\n",
              "    </tr>\n",
              "  </thead>\n",
              "  <tbody>\n",
              "    <tr>\n",
              "      <th>0</th>\n",
              "      <td>Hai Kak Vira, maaf ats keluhan yg dialami. Ag...</td>\n",
              "    </tr>\n",
              "    <tr>\n",
              "      <th>1</th>\n",
              "      <td>Hai Kak Muslih,  mohon maaf atas kendala yg d...</td>\n",
              "    </tr>\n",
              "    <tr>\n",
              "      <th>2</th>\n",
              "      <td>Hai Kak Gabriella, maaf banget buat kendalany...</td>\n",
              "    </tr>\n",
              "    <tr>\n",
              "      <th>3</th>\n",
              "      <td>Baik, sama sama kak, mohon menunggu atau cek ...</td>\n",
              "    </tr>\n",
              "    <tr>\n",
              "      <th>4</th>\n",
              "      <td>Hi kak Arie, sudah kami informasikan via Dm y...</td>\n",
              "    </tr>\n",
              "    <tr>\n",
              "      <th>...</th>\n",
              "      <td>...</td>\n",
              "    </tr>\n",
              "    <tr>\n",
              "      <th>195</th>\n",
              "      <td>3 Hai Kak, maaf untuk pengalamannya ya. Yuk co...</td>\n",
              "    </tr>\n",
              "    <tr>\n",
              "      <th>196</th>\n",
              "      <td>3009 Hai Kak Alfia, maaf atas hal yg di alami....</td>\n",
              "    </tr>\n",
              "    <tr>\n",
              "      <th>197</th>\n",
              "      <td>1 Baik kak,silakan bisa informasikan lokasi de...</td>\n",
              "    </tr>\n",
              "    <tr>\n",
              "      <th>198</th>\n",
              "      <td>Hai Kak, detailnya sudah Kami infokan via DM....</td>\n",
              "    </tr>\n",
              "    <tr>\n",
              "      <th>199</th>\n",
              "      <td>_ter Hi kak Syafei, untuk menu UMB bisa melalu...</td>\n",
              "    </tr>\n",
              "  </tbody>\n",
              "</table>\n",
              "<p>200 rows × 1 columns</p>\n",
              "</div>"
            ],
            "text/plain": [
              "                                                Tweets\n",
              "0     Hai Kak Vira, maaf ats keluhan yg dialami. Ag...\n",
              "1     Hai Kak Muslih,  mohon maaf atas kendala yg d...\n",
              "2     Hai Kak Gabriella, maaf banget buat kendalany...\n",
              "3     Baik, sama sama kak, mohon menunggu atau cek ...\n",
              "4     Hi kak Arie, sudah kami informasikan via Dm y...\n",
              "..                                                 ...\n",
              "195  3 Hai Kak, maaf untuk pengalamannya ya. Yuk co...\n",
              "196  3009 Hai Kak Alfia, maaf atas hal yg di alami....\n",
              "197  1 Baik kak,silakan bisa informasikan lokasi de...\n",
              "198   Hai Kak, detailnya sudah Kami infokan via DM....\n",
              "199  _ter Hi kak Syafei, untuk menu UMB bisa melalu...\n",
              "\n",
              "[200 rows x 1 columns]"
            ]
          },
          "metadata": {
            "tags": []
          },
          "execution_count": 60
        }
      ]
    },
    {
      "cell_type": "code",
      "metadata": {
        "colab": {
          "base_uri": "https://localhost:8080/",
          "height": 419
        },
        "id": "lnz8z3LquNwl",
        "outputId": "d1583a7e-6b35-4fa2-cbaa-e875529b82ca"
      },
      "source": [
        "# Create a function to get the subjectivity\r\n",
        "def getSubjectivity(text):\r\n",
        "   return TextBlob(text).sentiment.subjectivity\r\n",
        "\r\n",
        "# Create a function to get the polarity\r\n",
        "def getPolarity(text):\r\n",
        "   return  TextBlob(text).sentiment.polarity\r\n",
        "\r\n",
        "\r\n",
        "# Create two new columns 'Subjectivity' & 'Polarity'\r\n",
        "df['Subjectivity'] = df['Tweets'].apply(getSubjectivity)\r\n",
        "df['Polarity'] = df['Tweets'].apply(getPolarity)\r\n",
        "\r\n",
        "# Show the new dataframe with columns 'Subjectivity' & 'Polarity'\r\n",
        "df"
      ],
      "execution_count": 61,
      "outputs": [
        {
          "output_type": "execute_result",
          "data": {
            "text/html": [
              "<div>\n",
              "<style scoped>\n",
              "    .dataframe tbody tr th:only-of-type {\n",
              "        vertical-align: middle;\n",
              "    }\n",
              "\n",
              "    .dataframe tbody tr th {\n",
              "        vertical-align: top;\n",
              "    }\n",
              "\n",
              "    .dataframe thead th {\n",
              "        text-align: right;\n",
              "    }\n",
              "</style>\n",
              "<table border=\"1\" class=\"dataframe\">\n",
              "  <thead>\n",
              "    <tr style=\"text-align: right;\">\n",
              "      <th></th>\n",
              "      <th>Tweets</th>\n",
              "      <th>Subjectivity</th>\n",
              "      <th>Polarity</th>\n",
              "    </tr>\n",
              "  </thead>\n",
              "  <tbody>\n",
              "    <tr>\n",
              "      <th>0</th>\n",
              "      <td>Hai Kak Vira, maaf ats keluhan yg dialami. Ag...</td>\n",
              "      <td>0.00</td>\n",
              "      <td>0.00</td>\n",
              "    </tr>\n",
              "    <tr>\n",
              "      <th>1</th>\n",
              "      <td>Hai Kak Muslih,  mohon maaf atas kendala yg d...</td>\n",
              "      <td>0.65</td>\n",
              "      <td>0.15</td>\n",
              "    </tr>\n",
              "    <tr>\n",
              "      <th>2</th>\n",
              "      <td>Hai Kak Gabriella, maaf banget buat kendalany...</td>\n",
              "      <td>0.00</td>\n",
              "      <td>0.00</td>\n",
              "    </tr>\n",
              "    <tr>\n",
              "      <th>3</th>\n",
              "      <td>Baik, sama sama kak, mohon menunggu atau cek ...</td>\n",
              "      <td>0.00</td>\n",
              "      <td>0.00</td>\n",
              "    </tr>\n",
              "    <tr>\n",
              "      <th>4</th>\n",
              "      <td>Hi kak Arie, sudah kami informasikan via Dm y...</td>\n",
              "      <td>0.00</td>\n",
              "      <td>0.00</td>\n",
              "    </tr>\n",
              "    <tr>\n",
              "      <th>...</th>\n",
              "      <td>...</td>\n",
              "      <td>...</td>\n",
              "      <td>...</td>\n",
              "    </tr>\n",
              "    <tr>\n",
              "      <th>195</th>\n",
              "      <td>3 Hai Kak, maaf untuk pengalamannya ya. Yuk co...</td>\n",
              "      <td>0.00</td>\n",
              "      <td>0.00</td>\n",
              "    </tr>\n",
              "    <tr>\n",
              "      <th>196</th>\n",
              "      <td>3009 Hai Kak Alfia, maaf atas hal yg di alami....</td>\n",
              "      <td>0.00</td>\n",
              "      <td>0.00</td>\n",
              "    </tr>\n",
              "    <tr>\n",
              "      <th>197</th>\n",
              "      <td>1 Baik kak,silakan bisa informasikan lokasi de...</td>\n",
              "      <td>0.00</td>\n",
              "      <td>0.00</td>\n",
              "    </tr>\n",
              "    <tr>\n",
              "      <th>198</th>\n",
              "      <td>Hai Kak, detailnya sudah Kami infokan via DM....</td>\n",
              "      <td>0.00</td>\n",
              "      <td>0.00</td>\n",
              "    </tr>\n",
              "    <tr>\n",
              "      <th>199</th>\n",
              "      <td>_ter Hi kak Syafei, untuk menu UMB bisa melalu...</td>\n",
              "      <td>0.00</td>\n",
              "      <td>0.00</td>\n",
              "    </tr>\n",
              "  </tbody>\n",
              "</table>\n",
              "<p>200 rows × 3 columns</p>\n",
              "</div>"
            ],
            "text/plain": [
              "                                                Tweets  Subjectivity  Polarity\n",
              "0     Hai Kak Vira, maaf ats keluhan yg dialami. Ag...          0.00      0.00\n",
              "1     Hai Kak Muslih,  mohon maaf atas kendala yg d...          0.65      0.15\n",
              "2     Hai Kak Gabriella, maaf banget buat kendalany...          0.00      0.00\n",
              "3     Baik, sama sama kak, mohon menunggu atau cek ...          0.00      0.00\n",
              "4     Hi kak Arie, sudah kami informasikan via Dm y...          0.00      0.00\n",
              "..                                                 ...           ...       ...\n",
              "195  3 Hai Kak, maaf untuk pengalamannya ya. Yuk co...          0.00      0.00\n",
              "196  3009 Hai Kak Alfia, maaf atas hal yg di alami....          0.00      0.00\n",
              "197  1 Baik kak,silakan bisa informasikan lokasi de...          0.00      0.00\n",
              "198   Hai Kak, detailnya sudah Kami infokan via DM....          0.00      0.00\n",
              "199  _ter Hi kak Syafei, untuk menu UMB bisa melalu...          0.00      0.00\n",
              "\n",
              "[200 rows x 3 columns]"
            ]
          },
          "metadata": {
            "tags": []
          },
          "execution_count": 61
        }
      ]
    },
    {
      "cell_type": "code",
      "metadata": {
        "colab": {
          "base_uri": "https://localhost:8080/",
          "height": 248
        },
        "id": "t-qTLultuW_H",
        "outputId": "96858a26-ddaf-4f68-9e27-bc65fc5039b4"
      },
      "source": [
        "# word cloud visualization\r\n",
        "allWords = ' '.join([twts for twts in df['Tweets']])\r\n",
        "wordCloud = WordCloud(width=900, height=700, random_state=21, max_font_size=500).generate(allWords)\r\n",
        "\r\n",
        "\r\n",
        "plt.imshow(wordCloud, interpolation=\"bilinear\")\r\n",
        "plt.axis('off')\r\n",
        "plt.show()"
      ],
      "execution_count": 62,
      "outputs": [
        {
          "output_type": "display_data",
          "data": {
            "image/png": "[encoded data removed]",
            "text/plain": [
              "<Figure size 432x288 with 1 Axes>"
            ]
          },
          "metadata": {
            "tags": [],
            "needs_background": "light"
          }
        }
      ]
    },
    {
      "cell_type": "code",
      "metadata": {
        "colab": {
          "base_uri": "https://localhost:8080/"
        },
        "id": "-EqNCIq-uZ6c",
        "outputId": "b8b10f99-6dab-4561-a846-4c4a793a7ac0"
      },
      "source": [
        "pip install WordCloud"
      ],
      "execution_count": 63,
      "outputs": [
        {
          "output_type": "stream",
          "text": [
            "Requirement already satisfied: WordCloud in /usr/local/lib/python3.6/dist-packages (1.5.0)\n",
            "Requirement already satisfied: pillow in /usr/local/lib/python3.6/dist-packages (from WordCloud) (7.0.0)\n",
            "Requirement already satisfied: numpy>=1.6.1 in /usr/local/lib/python3.6/dist-packages (from WordCloud) (1.19.4)\n"
          ],
          "name": "stdout"
        }
      ]
    },
    {
      "cell_type": "code",
      "metadata": {
        "colab": {
          "base_uri": "https://localhost:8080/",
          "height": 419
        },
        "id": "T-ZkSVMUwCzr",
        "outputId": "253d2332-eba2-422c-cbd3-c2bf479eae7f"
      },
      "source": [
        "# Create a function to compute negative (-1), neutral (0) and positive (+1) analysis\r\n",
        "def getAnalysis(score):\r\n",
        " if score < 0:\r\n",
        "  return 'Negative'\r\n",
        " elif score == 0:\r\n",
        "  return 'Neutral'\r\n",
        " else:\r\n",
        "  return 'Positive'\r\n",
        "df['Analysis'] = df['Polarity'].apply(getAnalysis)\r\n",
        "# Show the dataframe\r\n",
        "df"
      ],
      "execution_count": 64,
      "outputs": [
        {
          "output_type": "execute_result",
          "data": {
            "text/html": [
              "<div>\n",
              "<style scoped>\n",
              "    .dataframe tbody tr th:only-of-type {\n",
              "        vertical-align: middle;\n",
              "    }\n",
              "\n",
              "    .dataframe tbody tr th {\n",
              "        vertical-align: top;\n",
              "    }\n",
              "\n",
              "    .dataframe thead th {\n",
              "        text-align: right;\n",
              "    }\n",
              "</style>\n",
              "<table border=\"1\" class=\"dataframe\">\n",
              "  <thead>\n",
              "    <tr style=\"text-align: right;\">\n",
              "      <th></th>\n",
              "      <th>Tweets</th>\n",
              "      <th>Subjectivity</th>\n",
              "      <th>Polarity</th>\n",
              "      <th>Analysis</th>\n",
              "    </tr>\n",
              "  </thead>\n",
              "  <tbody>\n",
              "    <tr>\n",
              "      <th>0</th>\n",
              "      <td>Hai Kak Vira, maaf ats keluhan yg dialami. Ag...</td>\n",
              "      <td>0.00</td>\n",
              "      <td>0.00</td>\n",
              "      <td>Neutral</td>\n",
              "    </tr>\n",
              "    <tr>\n",
              "      <th>1</th>\n",
              "      <td>Hai Kak Muslih,  mohon maaf atas kendala yg d...</td>\n",
              "      <td>0.65</td>\n",
              "      <td>0.15</td>\n",
              "      <td>Positive</td>\n",
              "    </tr>\n",
              "    <tr>\n",
              "      <th>2</th>\n",
              "      <td>Hai Kak Gabriella, maaf banget buat kendalany...</td>\n",
              "      <td>0.00</td>\n",
              "      <td>0.00</td>\n",
              "      <td>Neutral</td>\n",
              "    </tr>\n",
              "    <tr>\n",
              "      <th>3</th>\n",
              "      <td>Baik, sama sama kak, mohon menunggu atau cek ...</td>\n",
              "      <td>0.00</td>\n",
              "      <td>0.00</td>\n",
              "      <td>Neutral</td>\n",
              "    </tr>\n",
              "    <tr>\n",
              "      <th>4</th>\n",
              "      <td>Hi kak Arie, sudah kami informasikan via Dm y...</td>\n",
              "      <td>0.00</td>\n",
              "      <td>0.00</td>\n",
              "      <td>Neutral</td>\n",
              "    </tr>\n",
              "    <tr>\n",
              "      <th>...</th>\n",
              "      <td>...</td>\n",
              "      <td>...</td>\n",
              "      <td>...</td>\n",
              "      <td>...</td>\n",
              "    </tr>\n",
              "    <tr>\n",
              "      <th>195</th>\n",
              "      <td>3 Hai Kak, maaf untuk pengalamannya ya. Yuk co...</td>\n",
              "      <td>0.00</td>\n",
              "      <td>0.00</td>\n",
              "      <td>Neutral</td>\n",
              "    </tr>\n",
              "    <tr>\n",
              "      <th>196</th>\n",
              "      <td>3009 Hai Kak Alfia, maaf atas hal yg di alami....</td>\n",
              "      <td>0.00</td>\n",
              "      <td>0.00</td>\n",
              "      <td>Neutral</td>\n",
              "    </tr>\n",
              "    <tr>\n",
              "      <th>197</th>\n",
              "      <td>1 Baik kak,silakan bisa informasikan lokasi de...</td>\n",
              "      <td>0.00</td>\n",
              "      <td>0.00</td>\n",
              "      <td>Neutral</td>\n",
              "    </tr>\n",
              "    <tr>\n",
              "      <th>198</th>\n",
              "      <td>Hai Kak, detailnya sudah Kami infokan via DM....</td>\n",
              "      <td>0.00</td>\n",
              "      <td>0.00</td>\n",
              "      <td>Neutral</td>\n",
              "    </tr>\n",
              "    <tr>\n",
              "      <th>199</th>\n",
              "      <td>_ter Hi kak Syafei, untuk menu UMB bisa melalu...</td>\n",
              "      <td>0.00</td>\n",
              "      <td>0.00</td>\n",
              "      <td>Neutral</td>\n",
              "    </tr>\n",
              "  </tbody>\n",
              "</table>\n",
              "<p>200 rows × 4 columns</p>\n",
              "</div>"
            ],
            "text/plain": [
              "                                                Tweets  ...  Analysis\n",
              "0     Hai Kak Vira, maaf ats keluhan yg dialami. Ag...  ...   Neutral\n",
              "1     Hai Kak Muslih,  mohon maaf atas kendala yg d...  ...  Positive\n",
              "2     Hai Kak Gabriella, maaf banget buat kendalany...  ...   Neutral\n",
              "3     Baik, sama sama kak, mohon menunggu atau cek ...  ...   Neutral\n",
              "4     Hi kak Arie, sudah kami informasikan via Dm y...  ...   Neutral\n",
              "..                                                 ...  ...       ...\n",
              "195  3 Hai Kak, maaf untuk pengalamannya ya. Yuk co...  ...   Neutral\n",
              "196  3009 Hai Kak Alfia, maaf atas hal yg di alami....  ...   Neutral\n",
              "197  1 Baik kak,silakan bisa informasikan lokasi de...  ...   Neutral\n",
              "198   Hai Kak, detailnya sudah Kami infokan via DM....  ...   Neutral\n",
              "199  _ter Hi kak Syafei, untuk menu UMB bisa melalu...  ...   Neutral\n",
              "\n",
              "[200 rows x 4 columns]"
            ]
          },
          "metadata": {
            "tags": []
          },
          "execution_count": 64
        }
      ]
    },
    {
      "cell_type": "code",
      "metadata": {
        "colab": {
          "base_uri": "https://localhost:8080/"
        },
        "id": "9cSnjlEGwSaW",
        "outputId": "2e54be3b-be4f-4d48-9fa6-7d86330b2e21"
      },
      "source": [
        "# Printing positive tweets \r\n",
        "print('Printing positive tweets:\\n')\r\n",
        "j=1\r\n",
        "sortedDF = df.sort_values(by=['Polarity']) #Sort the tweets\r\n",
        "for i in range(0, sortedDF.shape[0] ):\r\n",
        "  if( sortedDF['Analysis'][i] == 'Positive'):\r\n",
        "    print(str(j) + ') '+ sortedDF['Tweets'][i])\r\n",
        "    print()\r\n",
        "    j= j+1"
      ],
      "execution_count": 65,
      "outputs": [
        {
          "output_type": "stream",
          "text": [
            "Printing positive tweets:\n",
            "\n",
            "1)  Hai Kak Muslih,  mohon maaf atas kendala yg dialami. Utk saat ini kami sedang berupaya agar akses kembali normal ya Kak. Mohon dicek secara berkala. Salam^Lya\n",
            "\n",
            "2) 2 Hi Miss Aulia, Regarding the eSIM Product That is entered it is not yet available. Thank you for using Indosat's service. Regard^Chun\n",
            "\n",
            "3) Fueru Album merupakan unlimited &amp; free cloud photo storage, dimana foto dapat diolah menjadi produk berupa photo print, album, kalendar, kartu ucapan, hingga kue.\n",
            "\n",
            "4) _a_m_i Hai Kak, maaf ya untuk pengalamannya, terkait kendalanya masih dalam penanganan team terkait kak, mohon di tunggu info selanjutnya ya kak. Thanks  ^Vio\n",
            "\n",
            "5)  Hai kak, maaf untuk pengalamannya ya. Untuk permasalahannya telah kami infokan via DM ya kak. Yuk cek DM kakak kembali :) Salam^Kade\n",
            "\n",
            "6) _a_m_i Hai kak Tami, mohon maaf untuk kendalanya ya. Saat ini tidak perlu khawatir ya kak karena sudah mimin bantu follow up kan. Mohon ditunggu untuk update selanjutnya ya kak :). Salam ^Una\n",
            "\n",
            "7)  Hi kak Rrrekhaaa, mohon maaf atas kendalanya ya kak, yuk clear cache serta off aplikasi berjalan dan di coba akses kembali ya kak. Jika masih sama, bisa infokan nomor dan lokasi detail via DM, supaya kami bantu cek. Salam^Fye \n",
            "\n",
            "8) _ Hai Kak, mohon maaf untuk akses data yang lambat, silahkan bisa clear cache aplikasi berjalan kemudian coba akses kembali. Jika masih berkendala, bisa infokan nomor hp, nama yang terdaftar, dan lokasi detail via DM agar kami bantu cek ya kak. ^Kuki \n",
            "\n",
            "9)  Baik kak Ardja, kami cek jaringan di nomor kakak saat ini dalam kondisi normal, dan sudah kami bantu optimalkan jaringannya nih. Yuk bs on/off data selular, restart hp, dan cb kembali aksesnya secara berkala kak. Jika belum berhasil, bs konfirmasi kembali via DM kak. Salam^Chun\n",
            "\n",
            "10) @_funkywen Hai kak, kami bantu cek nomor kaka normal kak kami coba sarankan unregistrasi paket yang sudah habis ya kak lalu coba kembali registrasi paketnya melalui menu Buy/Beli. ^honey\n",
            "\n",
            "11)  Maaf ya Kak, yuk bisa clear chache aplikasi dan stop aplikasi yg berjalan bersamaan. Jika masih sama DM yuk nomor Hp dan lokasi kendala (indoor/outdor, nama dan nomor jalan, RT/RW, kecamatan, kelurahan, kabupaten/kota) agar bisa kami bantu. Thanks^Marsha\n",
            "\n",
            "\n",
            "12)  Hai Kak Alquraisy, mohon maaf perihal kendala sinyal yang dialami. Kakak bisa mencoba restart HP terlebih dahulu. Jika tetap sama, mohon infokan:\n",
            "1. Nomor :\n",
            "2. Nama :\n",
            "3. Detail Lokasi :\n",
            "Kirim via DM agar privasi terjaga dan dapat dibantu cek.^Adam \n",
            "\n",
            "13) 7 Hai Kak, terimakasih jg ya untuk kesetiaannya menggunakan produk Indosat Ooredoo. Jangan ragu hubungi kami ya Kak apabila ada yang ingin ditanyakan kembali ya, Jaga selalu kesehatan kakak dan keluarga :) ^Ifa\n",
            "\n",
            "14) 362083 Maaf ya kak untuk aksesnya. Yuk bisa clear cache apps yg berkendala dan coba kembali secara berkala ya. Jika masih sama bisa nih infoin nomor Indosat, nama yg terdaftar dan lokasi detail (Jln, RT, RW, Desa, Kec, Kab, Kota) via DM kak. Salam^Cimi\n",
            "\n",
            "15)  Hai Kak Ayu, maaf banget nih. Keluhan Kakak saat ini masih dalam proses follow up. Mimin akan segera informasikan jika sudah selesai ditindak lanjuti ya. Mohon tunggu updatenya kembali ya :). Salam^Fitri\n",
            "\n",
            "16) 73775096 Hai kak, maaf atas kendalanya kak. Kami sarankan untk clear cache pda aplikasi yg mengalami kendala, lalu cba kembali untk akses. Jk msh kendala, yuk infoin nmr Indosat, ats nma pemilik nmr, detail lokasi (nama jalan, RT/RW, Kel, Kec, Kota) dan nomor alternatif ya kak. Salam^Indi\n",
            "\n",
            "17)  hi kak,maaf bikin ga nyaman, kami sarankan bsa kakak coba clear cache dan tutup apk berjalan. Jika masih berkendala yuk infokan nama,nomor,dan detail lokasi via DM ya ^Nisa \n",
            "\n",
            "18)  Hai kak, maaf bgt nih buat kendalanya. Jika internet melambat, kakak bisa coba clear cache di pengaturan aplikasi dan pastikan stop semua aplikasi berjalan ya kak.Salam^Mora\n",
            "\n",
            "19) 13 Okay sama-sama Kak. Selamat menikmati layanan Indosat Ooredoo kami yah, jika butuh informasi seputar layanan Indosat Ooredoo jangan ragu konfirmasi kami kembali yah Kak. ^Vio\n",
            "\n",
            "20) 13 Maaf ya Kak Reza, yuk bisa clear chache aplikasi dan stop aplikasi yg berjalan. Jika masih sama DM yuk nomor Hp dan lokasi kendalanya (indoor/outdor, nama dan nomor jalan, RT/RW, kecamatan, kelurahan, kabupaten/kota) agar bisa kami bantu. Thanks^Marsha\n",
            "\n",
            "\n",
            "21) _PolmaN Hi Kak, maaf banget bikin ngga nyaman. Kakak bisa coba clear cache dulu ya dan demi menjaga privasi pelanggan mohon hapus datanya di tweet ini dan infokan nomor dan lokasi detail via DM ya Kak. Salam^Adel\n",
            "\n",
            "\n",
            "22) _Dimejo Hai Kak, kami bantu konfirmasi via DM ya untuk detail nya :) Salam^Biya\n",
            "\n",
            "23) _FelizHall Hi Kak Matthew, buat aksesnya silakan Off/On HPnya dan coba kembali, jika masih sama DM nama lengkap dan nomornya ya. Thanks ^Rio \n",
            "\n"
          ],
          "name": "stdout"
        }
      ]
    },
    {
      "cell_type": "code",
      "metadata": {
        "colab": {
          "base_uri": "https://localhost:8080/"
        },
        "id": "0KPD2-oSwVP1",
        "outputId": "504dce5d-d9e4-4e51-b31a-adb123f37c96"
      },
      "source": [
        "# Printing negative tweets  \r\n",
        "print('Printing negative tweets:\\n')\r\n",
        "j=1\r\n",
        "sortedDF = df.sort_values(by=['Polarity'],ascending=False) #Sort the tweets\r\n",
        "for i in range(0, sortedDF.shape[0] ):\r\n",
        "  if( sortedDF['Analysis'][i] == 'Negative'):\r\n",
        "    print(str(j) + ') '+sortedDF['Tweets'][i])\r\n",
        "    print()\r\n",
        "    j=j+1"
      ],
      "execution_count": 66,
      "outputs": [
        {
          "output_type": "stream",
          "text": [
            "Printing negative tweets:\n",
            "\n",
            "1)  Hai kak, coba clear cache, stop aplikasi berjalan dan coba kembali. Jika belum bisa yuk infoin via DM \n",
            "\n",
            "\n",
            "Nama :\n",
            "Nomor yang dikeluhkan :\n",
            "Waktu detail kejadian : (Tanggal dan jam)\n",
            "Signal Data :\n",
            "Lokasi detail : \n",
            "Nomor Alternatif : \n",
            "\n",
            "^Mina\n",
            "\n"
          ],
          "name": "stdout"
        }
      ]
    },
    {
      "cell_type": "code",
      "metadata": {
        "colab": {
          "base_uri": "https://localhost:8080/",
          "height": 405
        },
        "id": "Yxcp7cBawiRW",
        "outputId": "0a54c469-9f35-46ca-e031-99750c73b671"
      },
      "source": [
        "# Plotting \r\n",
        "plt.figure(figsize=(8,6)) \r\n",
        "for i in range(0, df.shape[0]):\r\n",
        "  plt.scatter(df[\"Polarity\"][i], df[\"Subjectivity\"][i], color='Black') \r\n",
        "# plt.scatter(x,y,color)   \r\n",
        "plt.title('Sentiment Analysis') \r\n",
        "plt.xlabel('Polarity') \r\n",
        "plt.ylabel('Subjectivity') \r\n",
        "plt.show()"
      ],
      "execution_count": 68,
      "outputs": [
        {
          "output_type": "display_data",
          "data": {
            "image/png": "[encoded data removed]",
            "text/plain": [
              "<Figure size 576x432 with 1 Axes>"
            ]
          },
          "metadata": {
            "tags": [],
            "needs_background": "light"
          }
        }
      ]
    },
    {
      "cell_type": "code",
      "metadata": {
        "colab": {
          "base_uri": "https://localhost:8080/"
        },
        "id": "OAMbVStewpXX",
        "outputId": "94d95041-97ab-4958-b8d1-b92c2a9cb67a"
      },
      "source": [
        "# Print the percentage of positive tweets\r\n",
        "ptweets = df[df.Analysis == 'Positive']\r\n",
        "ptweets = ptweets['Tweets']\r\n",
        "ptweets\r\n",
        "\r\n",
        "round( (ptweets.shape[0] / df.shape[0]) * 100 , 1)"
      ],
      "execution_count": 69,
      "outputs": [
        {
          "output_type": "execute_result",
          "data": {
            "text/plain": [
              "11.5"
            ]
          },
          "metadata": {
            "tags": []
          },
          "execution_count": 69
        }
      ]
    },
    {
      "cell_type": "code",
      "metadata": {
        "colab": {
          "base_uri": "https://localhost:8080/"
        },
        "id": "sRwaptsewtkH",
        "outputId": "0da21d35-59ad-4577-d5b7-d2a4da7064de"
      },
      "source": [
        "# Print the percentage of negative tweets\r\n",
        "ntweets = df[df.Analysis == 'Negative']\r\n",
        "ntweets = ntweets['Tweets']\r\n",
        "ntweets\r\n",
        "\r\n",
        "round( (ntweets.shape[0] / df.shape[0]) * 100, 1)"
      ],
      "execution_count": 70,
      "outputs": [
        {
          "output_type": "execute_result",
          "data": {
            "text/plain": [
              "0.5"
            ]
          },
          "metadata": {
            "tags": []
          },
          "execution_count": 70
        }
      ]
    },
    {
      "cell_type": "code",
      "metadata": {
        "colab": {
          "base_uri": "https://localhost:8080/"
        },
        "id": "__efX65PwvXp",
        "outputId": "ad26c944-d9bc-475a-e835-83f5631dc590"
      },
      "source": [
        "# Show the value counts\r\n",
        "df['Analysis'].value_counts()"
      ],
      "execution_count": 71,
      "outputs": [
        {
          "output_type": "execute_result",
          "data": {
            "text/plain": [
              "Neutral     176\n",
              "Positive     23\n",
              "Negative      1\n",
              "Name: Analysis, dtype: int64"
            ]
          },
          "metadata": {
            "tags": []
          },
          "execution_count": 71
        }
      ]
    },
    {
      "cell_type": "code",
      "metadata": {
        "colab": {
          "base_uri": "https://localhost:8080/",
          "height": 296
        },
        "id": "nvTIMpDbw2c6",
        "outputId": "988abfff-7ab2-4c60-8560-5d8ac88dbac0"
      },
      "source": [
        "# Plotting and visualizing the counts\r\n",
        "plt.title('Sentiment Analysis')\r\n",
        "plt.xlabel('Sentiment')\r\n",
        "plt.ylabel('Counts')\r\n",
        "df['Analysis'].value_counts().plot(kind = 'line')\r\n",
        "plt.show()"
      ],
      "execution_count": 72,
      "outputs": [
        {
          "output_type": "display_data",
          "data": {
            "image/png": "[encoded data removed]",
            "text/plain": [
              "<Figure size 432x288 with 1 Axes>"
            ]
          },
          "metadata": {
            "tags": [],
            "needs_background": "light"
          }
        }
      ]
    },
    {
      "cell_type": "code",
      "metadata": {
        "colab": {
          "base_uri": "https://localhost:8080/",
          "height": 331
        },
        "id": "Yq9Zavfow_3c",
        "outputId": "8a88bd22-e409-4053-b402-9bb916565b11"
      },
      "source": [
        "plt.title('Sentiment Analysis')\r\n",
        "plt.xlabel('Sentiment')\r\n",
        "plt.ylabel('Counts')\r\n",
        "df['Analysis'].value_counts().plot(kind = 'bar')\r\n",
        "plt.show()"
      ],
      "execution_count": 73,
      "outputs": [
        {
          "output_type": "display_data",
          "data": {
            "image/png": "[encoded data removed]",
            "text/plain": [
              "<Figure size 432x288 with 1 Axes>"
            ]
          },
          "metadata": {
            "tags": [],
            "needs_background": "light"
          }
        }
      ]
    }
  ]
}